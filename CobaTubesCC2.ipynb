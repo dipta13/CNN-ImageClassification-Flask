{
  "nbformat": 4,
  "nbformat_minor": 0,
  "metadata": {
    "colab": {
      "name": "CobaTubesCC2.ipynb",
      "provenance": [],
      "mount_file_id": "1AG3--s2DebzY_5fUZ1H2AuqBQJA4jSBj",
      "authorship_tag": "ABX9TyPdYDZcSMkVYrjDHhjvIXUA",
      "include_colab_link": true
    },
    "kernelspec": {
      "name": "python3",
      "display_name": "Python 3"
    },
    "language_info": {
      "name": "python"
    }
  },
  "cells": [
    {
      "cell_type": "markdown",
      "metadata": {
        "id": "view-in-github",
        "colab_type": "text"
      },
      "source": [
        "<a href=\"https://colab.research.google.com/github/dipta13/CNN-ImageClassification-Flask/blob/main/CobaTubesCC2.ipynb\" target=\"_parent\"><img src=\"https://colab.research.google.com/assets/colab-badge.svg\" alt=\"Open In Colab\"/></a>"
      ]
    },
    {
      "cell_type": "code",
      "execution_count": 39,
      "metadata": {
        "id": "hyN6CF3QPVbS"
      },
      "outputs": [],
      "source": [
        "from google.colab import drive"
      ]
    },
    {
      "cell_type": "code",
      "source": [
        "cd /content/drive/MyDrive/DATASET_Kelompok_8"
      ],
      "metadata": {
        "colab": {
          "base_uri": "https://localhost:8080/"
        },
        "id": "V3nj-CO9TN9m",
        "outputId": "91ee65d0-1335-43e7-a870-f5335b7e0140"
      },
      "execution_count": 40,
      "outputs": [
        {
          "output_type": "stream",
          "name": "stdout",
          "text": [
            "/content/drive/MyDrive/DATASET_Kelompok_8\n"
          ]
        }
      ]
    },
    {
      "cell_type": "code",
      "source": [
        "ls"
      ],
      "metadata": {
        "colab": {
          "base_uri": "https://localhost:8080/"
        },
        "id": "3AYugvCNTU5N",
        "outputId": "92781400-ecac-4b65-f327-2c94907142a7"
      },
      "execution_count": 43,
      "outputs": [
        {
          "output_type": "stream",
          "name": "stdout",
          "text": [
            "\u001b[0m\u001b[01;34mJerawat\u001b[0m/  \u001b[01;34mNormal\u001b[0m/\n"
          ]
        }
      ]
    },
    {
      "cell_type": "code",
      "source": [
        "import tensorflow\n",
        "print(tensorflow.__version__)"
      ],
      "metadata": {
        "colab": {
          "base_uri": "https://localhost:8080/"
        },
        "id": "8vI6SCRZZM3f",
        "outputId": "18060bde-5a94-4f80-a5b9-29132e0dceef"
      },
      "execution_count": 44,
      "outputs": [
        {
          "output_type": "stream",
          "name": "stdout",
          "text": [
            "2.7.0\n"
          ]
        }
      ]
    },
    {
      "cell_type": "code",
      "source": [
        "import cv2,os\n",
        "data_path='/content/drive/MyDrive/DATASET_Kelompok_8'\n",
        "categories=os.listdir(data_path)\n",
        "labels=[i for i in range(len(categories))]\n",
        "\n",
        "label_dict=dict(zip(categories,labels)) #empty dictionary\n",
        "print(label_dict)\n",
        "print(categories)\n",
        "print(labels)"
      ],
      "metadata": {
        "id": "B-JDXqxUTVSM",
        "colab": {
          "base_uri": "https://localhost:8080/"
        },
        "outputId": "9a8d1e86-172b-43f5-dd17-afb4cc3cc7c3"
      },
      "execution_count": 4,
      "outputs": [
        {
          "output_type": "stream",
          "name": "stdout",
          "text": [
            "{'Jerawat': 0, 'Normal': 1}\n",
            "['Jerawat', 'Normal']\n",
            "[0, 1]\n"
          ]
        }
      ]
    },
    {
      "cell_type": "code",
      "source": [
        "img_size=244\n",
        "data=[]\n",
        "target=[]\n",
        "\n",
        "for category in categories:\n",
        "    folder_path=os.path.join(data_path,category)\n",
        "    img_names=os.listdir(folder_path)\n",
        "        \n",
        "    for img_name in img_names:\n",
        "        img_path=os.path.join(folder_path,img_name)\n",
        "        img=cv2.imread(img_path)\n",
        "\n",
        "        try:  \n",
        "            resized=cv2.resize(img,(img_size,img_size))\n",
        "            #resizing the image  into 244x244, since we need a fixed common size for all the images in the dataset\n",
        "            data.append(resized)\n",
        "            target.append(label_dict[category])\n",
        "            #appending the image and the label(categorized) into the list (dataset)\n",
        "        except Exception as e:\n",
        "            print('Exception:',e)\n",
        "            #if any exception rasied, the exception will be printed here. And pass to the next image"
      ],
      "metadata": {
        "id": "bBFlYlXsF99q"
      },
      "execution_count": 5,
      "outputs": []
    },
    {
      "cell_type": "code",
      "source": [
        "import numpy as np\n",
        "data=np.array(data)/255.0\n",
        "data=np.reshape(data,(data.shape[0],img_size,img_size,3))\n",
        "target=np.array(target)\n",
        "from keras.utils import np_utils\n",
        "new_target=np_utils.to_categorical(target)"
      ],
      "metadata": {
        "id": "tPpZ2t3gFy0t"
      },
      "execution_count": 6,
      "outputs": []
    },
    {
      "cell_type": "code",
      "source": [
        "print(labels)"
      ],
      "metadata": {
        "colab": {
          "base_uri": "https://localhost:8080/"
        },
        "id": "3HOtyKM1GDGq",
        "outputId": "32f307da-9f61-4605-c578-6fe151493c64"
      },
      "execution_count": 7,
      "outputs": [
        {
          "output_type": "stream",
          "name": "stdout",
          "text": [
            "[0, 1]\n"
          ]
        }
      ]
    },
    {
      "cell_type": "code",
      "source": [
        "new_target.shape"
      ],
      "metadata": {
        "colab": {
          "base_uri": "https://localhost:8080/"
        },
        "id": "vZpO4zxGZtXR",
        "outputId": "78a94fc2-6b18-4c44-b641-3faa9a8fb275"
      },
      "execution_count": 8,
      "outputs": [
        {
          "output_type": "execute_result",
          "data": {
            "text/plain": [
              "(1200, 2)"
            ]
          },
          "metadata": {},
          "execution_count": 8
        }
      ]
    },
    {
      "cell_type": "markdown",
      "source": [
        " **MODEL CNN**"
      ],
      "metadata": {
        "id": "SwyBdG8WZxpr"
      }
    },
    {
      "cell_type": "code",
      "source": [
        "data.shape #1200 dataset, 244x244, 3 menandakan RGB"
      ],
      "metadata": {
        "id": "qkPaQ9mlIvCY",
        "colab": {
          "base_uri": "https://localhost:8080/"
        },
        "outputId": "20bcc315-8748-4352-eb61-167f49e058d4"
      },
      "execution_count": 9,
      "outputs": [
        {
          "output_type": "execute_result",
          "data": {
            "text/plain": [
              "(1200, 244, 244, 3)"
            ]
          },
          "metadata": {},
          "execution_count": 9
        }
      ]
    },
    {
      "cell_type": "code",
      "source": [
        "data.shape[1:]"
      ],
      "metadata": {
        "colab": {
          "base_uri": "https://localhost:8080/"
        },
        "id": "QwDTa_c4I3E4",
        "outputId": "8d81eb9a-fdbe-47d0-887f-00ddab1bf402"
      },
      "execution_count": 11,
      "outputs": [
        {
          "output_type": "execute_result",
          "data": {
            "text/plain": [
              "(244, 244, 3)"
            ]
          },
          "metadata": {},
          "execution_count": 11
        }
      ]
    },
    {
      "cell_type": "code",
      "source": [
        "from keras.models import Sequential\n",
        "from keras.layers import Dense,Activation,Flatten,Dropout\n",
        "from keras.layers import Conv2D,MaxPooling2D\n",
        "from keras.callbacks import ModelCheckpoint\n",
        "\n",
        "model=Sequential()\n",
        "\n",
        "model.add(Conv2D(200,(3,3),input_shape=data.shape[1:]))\n",
        "model.add(Activation('relu'))\n",
        "model.add(MaxPooling2D(pool_size=(2,2)))\n",
        "#The first CNN layer followed by Relu and MaxPooling layers\n",
        "\n",
        "model.add(Conv2D(100,(3,3)))\n",
        "model.add(Activation('relu'))\n",
        "model.add(MaxPooling2D(pool_size=(2,2)))\n",
        "#The second convolution layer followed by Relu and MaxPooling layers\n",
        "\n",
        "model.add(Flatten())\n",
        "model.add(Dropout(0.5))\n",
        "#Flatten layer to stack the output convolutions from second convolution layer\n",
        "model.add(Dense(50,activation='relu'))\n",
        "#Dense layer of 64 neurons\n",
        "model.add(Dense(2,activation='softmax'))\n",
        "#The Final layer with two outputs for two categories\n",
        "\n",
        "model.compile(loss='categorical_crossentropy',optimizer='adam',metrics=['accuracy'])"
      ],
      "metadata": {
        "id": "y63ztJU3I5pn"
      },
      "execution_count": 12,
      "outputs": []
    },
    {
      "cell_type": "code",
      "source": [
        "model.summary()"
      ],
      "metadata": {
        "id": "rYWeFOd0JB9d",
        "colab": {
          "base_uri": "https://localhost:8080/"
        },
        "outputId": "109ecb02-7820-4fe3-b908-59378e5ddbb3"
      },
      "execution_count": 13,
      "outputs": [
        {
          "output_type": "stream",
          "name": "stdout",
          "text": [
            "Model: \"sequential\"\n",
            "_________________________________________________________________\n",
            " Layer (type)                Output Shape              Param #   \n",
            "=================================================================\n",
            " conv2d (Conv2D)             (None, 242, 242, 200)     5600      \n",
            "                                                                 \n",
            " activation (Activation)     (None, 242, 242, 200)     0         \n",
            "                                                                 \n",
            " max_pooling2d (MaxPooling2D  (None, 121, 121, 200)    0         \n",
            " )                                                               \n",
            "                                                                 \n",
            " conv2d_1 (Conv2D)           (None, 119, 119, 100)     180100    \n",
            "                                                                 \n",
            " activation_1 (Activation)   (None, 119, 119, 100)     0         \n",
            "                                                                 \n",
            " max_pooling2d_1 (MaxPooling  (None, 59, 59, 100)      0         \n",
            " 2D)                                                             \n",
            "                                                                 \n",
            " flatten (Flatten)           (None, 348100)            0         \n",
            "                                                                 \n",
            " dropout (Dropout)           (None, 348100)            0         \n",
            "                                                                 \n",
            " dense (Dense)               (None, 50)                17405050  \n",
            "                                                                 \n",
            " dense_1 (Dense)             (None, 2)                 102       \n",
            "                                                                 \n",
            "=================================================================\n",
            "Total params: 17,590,852\n",
            "Trainable params: 17,590,852\n",
            "Non-trainable params: 0\n",
            "_________________________________________________________________\n"
          ]
        }
      ]
    },
    {
      "cell_type": "markdown",
      "source": [
        "**Split data untuk Training dan Testing**"
      ],
      "metadata": {
        "id": "Wnq4KH3Labjd"
      }
    },
    {
      "cell_type": "code",
      "source": [
        "# perform a training and testing split, using 75% of the data for\n",
        "# training and 25% for evaluation\n",
        "from sklearn.model_selection import train_test_split\n",
        "train_data,test_data,train_target,test_target=train_test_split(data,new_target,test_size=0.25)"
      ],
      "metadata": {
        "id": "vHVvFcaPJGzP"
      },
      "execution_count": 14,
      "outputs": []
    },
    {
      "cell_type": "code",
      "source": [
        "# melihat jumlah dataset yang dilakukan training sebesar 75%\n",
        "train_data.shape"
      ],
      "metadata": {
        "id": "ueJmxFpaJJFZ",
        "colab": {
          "base_uri": "https://localhost:8080/"
        },
        "outputId": "4073d457-9720-497a-a92e-6b8808e12a55"
      },
      "execution_count": 15,
      "outputs": [
        {
          "output_type": "execute_result",
          "data": {
            "text/plain": [
              "(900, 244, 244, 3)"
            ]
          },
          "metadata": {},
          "execution_count": 15
        }
      ]
    },
    {
      "cell_type": "code",
      "source": [
        "train_target.shape"
      ],
      "metadata": {
        "id": "yj2lu5HBMAIN",
        "colab": {
          "base_uri": "https://localhost:8080/"
        },
        "outputId": "671df155-4c4b-44ca-acee-89a90a6dafae"
      },
      "execution_count": 16,
      "outputs": [
        {
          "output_type": "execute_result",
          "data": {
            "text/plain": [
              "(900, 2)"
            ]
          },
          "metadata": {},
          "execution_count": 16
        }
      ]
    },
    {
      "cell_type": "code",
      "source": [
        "#checkpoint = ModelCheckpoint('model-{epoch:03d}.model',monitor='val_loss',verbose=0,save_best_only=True,mode='auto')\n",
        "# H = model.fit(train_data,train_target,epochs=50,validation_split=0.2)\n",
        "#model.compile(loss=\"categorical_crossentropy\", optimizer=opt,\n",
        "#\tmetrics=[\"accuracy\"])\n",
        "H = model.fit(train_data, train_target, validation_data=(test_data, test_target), epochs=15, batch_size=32)"
      ],
      "metadata": {
        "colab": {
          "base_uri": "https://localhost:8080/"
        },
        "id": "QRbLKMIwa_Gb",
        "outputId": "1ec1c896-511e-4079-ce21-f7ee2f3319a8"
      },
      "execution_count": 18,
      "outputs": [
        {
          "output_type": "stream",
          "name": "stdout",
          "text": [
            "Epoch 1/15\n",
            "29/29 [==============================] - 469s 16s/step - loss: 0.0654 - accuracy: 0.9833 - val_loss: 0.0448 - val_accuracy: 0.9800\n",
            "Epoch 2/15\n",
            "29/29 [==============================] - 468s 16s/step - loss: 0.0469 - accuracy: 0.9889 - val_loss: 1.7681e-04 - val_accuracy: 1.0000\n",
            "Epoch 3/15\n",
            "29/29 [==============================] - 460s 16s/step - loss: 0.0299 - accuracy: 0.9944 - val_loss: 1.1606e-04 - val_accuracy: 1.0000\n",
            "Epoch 4/15\n",
            "29/29 [==============================] - 463s 16s/step - loss: 0.0080 - accuracy: 0.9978 - val_loss: 4.9055e-04 - val_accuracy: 1.0000\n",
            "Epoch 5/15\n",
            "29/29 [==============================] - 467s 16s/step - loss: 0.0012 - accuracy: 1.0000 - val_loss: 0.0017 - val_accuracy: 1.0000\n",
            "Epoch 6/15\n",
            "29/29 [==============================] - 468s 16s/step - loss: 0.0051 - accuracy: 0.9967 - val_loss: 9.0192e-06 - val_accuracy: 1.0000\n",
            "Epoch 7/15\n",
            "29/29 [==============================] - 462s 16s/step - loss: 0.0177 - accuracy: 0.9967 - val_loss: 2.1103e-04 - val_accuracy: 1.0000\n",
            "Epoch 8/15\n",
            "29/29 [==============================] - 465s 16s/step - loss: 0.0046 - accuracy: 0.9967 - val_loss: 0.0417 - val_accuracy: 0.9867\n",
            "Epoch 9/15\n",
            "29/29 [==============================] - 470s 16s/step - loss: 0.0109 - accuracy: 0.9967 - val_loss: 8.2967e-05 - val_accuracy: 1.0000\n",
            "Epoch 10/15\n",
            "29/29 [==============================] - 465s 16s/step - loss: 0.0030 - accuracy: 0.9989 - val_loss: 5.9927e-04 - val_accuracy: 1.0000\n",
            "Epoch 11/15\n",
            "29/29 [==============================] - 464s 16s/step - loss: 0.0116 - accuracy: 0.9978 - val_loss: 0.0013 - val_accuracy: 1.0000\n",
            "Epoch 12/15\n",
            "29/29 [==============================] - 466s 16s/step - loss: 0.0012 - accuracy: 0.9989 - val_loss: 4.4107e-08 - val_accuracy: 1.0000\n",
            "Epoch 13/15\n",
            "29/29 [==============================] - 466s 16s/step - loss: 9.3258e-06 - accuracy: 1.0000 - val_loss: 1.3470e-07 - val_accuracy: 1.0000\n",
            "Epoch 14/15\n",
            "29/29 [==============================] - 468s 16s/step - loss: 4.3102e-06 - accuracy: 1.0000 - val_loss: 6.1988e-08 - val_accuracy: 1.0000\n",
            "Epoch 15/15\n",
            "29/29 [==============================] - 466s 16s/step - loss: 7.8984e-07 - accuracy: 1.0000 - val_loss: 2.1458e-08 - val_accuracy: 1.0000\n"
          ]
        }
      ]
    },
    {
      "cell_type": "code",
      "source": [
        "model.save('model.h5')"
      ],
      "metadata": {
        "id": "3pbDXWZAbLsi"
      },
      "execution_count": 19,
      "outputs": []
    },
    {
      "cell_type": "code",
      "source": [
        "from matplotlib import pyplot as plt"
      ],
      "metadata": {
        "id": "azT8AexC6ty5"
      },
      "execution_count": 20,
      "outputs": []
    },
    {
      "cell_type": "code",
      "source": [
        "print(H.history.keys())\n",
        "# summarize history for accuracy\n",
        "plt.plot(H.history['accuracy'])\n",
        "plt.plot(H.history['val_accuracy'])\n",
        "plt.title('model accuracy')\n",
        "plt.ylabel('accuracy')\n",
        "plt.xlabel('epoch')\n",
        "plt.legend(['train', 'test'], loc='upper left')\n",
        "plt.show()\n",
        "# summarize history for loss\n",
        "plt.plot(H.history['loss'])\n",
        "plt.plot(H.history['val_loss'])\n",
        "plt.title('model loss')\n",
        "plt.ylabel('loss')\n",
        "plt.xlabel('epoch')\n",
        "plt.legend(['train', 'test'], loc='upper left')\n",
        "plt.show()"
      ],
      "metadata": {
        "colab": {
          "base_uri": "https://localhost:8080/",
          "height": 598
        },
        "id": "nowNvujZ7RcQ",
        "outputId": "96f1de38-0ed1-4de4-a3ba-1b0f03ea894e"
      },
      "execution_count": 23,
      "outputs": [
        {
          "output_type": "stream",
          "name": "stdout",
          "text": [
            "dict_keys(['loss', 'accuracy', 'val_loss', 'val_accuracy'])\n"
          ]
        },
        {
          "output_type": "display_data",
          "data": {
            "image/png": "[encoded data removed]",
            "text/plain": [
              "<Figure size 432x288 with 1 Axes>"
            ]
          },
          "metadata": {}
        },
        {
          "output_type": "display_data",
          "data": {
            "image/png": "[encoded data removed]",
            "text/plain": [
              "<Figure size 432x288 with 1 Axes>"
            ]
          },
          "metadata": {}
        }
      ]
    },
    {
      "cell_type": "code",
      "source": [
        "N = 15\n",
        "plt.style.use(\"ggplot\")\n",
        "plt.figure()\n",
        "plt.plot(np.arange(0, N), H.history[\"loss\"], label=\"train_loss\")\n",
        "plt.plot(np.arange(0, N), H.history[\"val_loss\"], label=\"val_loss\")\n",
        "plt.plot(np.arange(0, N), H.history[\"accuracy\"], label=\"train_acc\")\n",
        "plt.plot(np.arange(0, N), H.history[\"val_accuracy\"], label=\"val_acc\")\n",
        "plt.title(\"Training Loss and Accuracy\")\n",
        "plt.xlabel(\"Epoch #\")\n",
        "plt.ylabel(\"Loss/Accuracy\")\n",
        "plt.legend(loc=\"center right\")\n",
        "plt.savefig(\"CNN_Model\")"
      ],
      "metadata": {
        "colab": {
          "base_uri": "https://localhost:8080/",
          "height": 299
        },
        "id": "-sOdkpHL6yS4",
        "outputId": "b7369c67-67b4-4b45-c3c3-a91b28a5af1d"
      },
      "execution_count": 29,
      "outputs": [
        {
          "output_type": "display_data",
          "data": {
            "image/png": "[encoded data removed]",
            "text/plain": [
              "<Figure size 432x288 with 1 Axes>"
            ]
          },
          "metadata": {}
        }
      ]
    },
    {
      "cell_type": "code",
      "source": [
        ""
      ],
      "metadata": {
        "id": "nYNhOSSkGb7H"
      },
      "execution_count": null,
      "outputs": []
    }
  ]
}